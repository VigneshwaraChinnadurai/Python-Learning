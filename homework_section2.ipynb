{
  "nbformat": 4,
  "nbformat_minor": 0,
  "metadata": {
    "colab": {
      "name": "homework_section2.ipynb",
      "version": "0.3.2",
      "provenance": [],
      "include_colab_link": true
    },
    "kernelspec": {
      "name": "python3",
      "display_name": "Python 3"
    }
  },
  "cells": [
    {
      "cell_type": "markdown",
      "metadata": {
        "id": "view-in-github",
        "colab_type": "text"
      },
      "source": [
        "<a href=\"https://colab.research.google.com/github/VigneshwaraChinnadurai/Python-Learning/blob/master/homework_section2.ipynb\" target=\"_parent\"><img src=\"https://colab.research.google.com/assets/colab-badge.svg\" alt=\"Open In Colab\"/></a>"
      ]
    },
    {
      "cell_type": "code",
      "metadata": {
        "id": "Ptd_-0-pKIYo",
        "colab_type": "code",
        "colab": {}
      },
      "source": [
        "#Session 2 homework\n",
        "\n",
        "\n",
        "import math\n",
        "import numpy as np\n",
        "from numpy.random import randn\n",
        "n=int(input('enter the range value: '))\n",
        "print ('the values of N  are: ')\n",
        "counter=0\n",
        "for i in randn(n):\n",
        "  print (i)\n",
        "  if (i>-1 and i<1):\n",
        "    counter=counter+1\n",
        "print (counter)\n"
      ],
      "execution_count": 0,
      "outputs": []
    }
  ]
}