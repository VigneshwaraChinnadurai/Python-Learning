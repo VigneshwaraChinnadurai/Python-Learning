{
  "nbformat": 4,
  "nbformat_minor": 0,
  "metadata": {
    "colab": {
      "name": "Untitled0.ipynb",
      "version": "0.3.2",
      "provenance": [],
      "collapsed_sections": [],
      "include_colab_link": true
    },
    "kernelspec": {
      "name": "python3",
      "display_name": "Python 3"
    }
  },
  "cells": [
    {
      "cell_type": "markdown",
      "metadata": {
        "id": "view-in-github",
        "colab_type": "text"
      },
      "source": [
        "<a href=\"https://colab.research.google.com/github/VigneshwaraChinnadurai/Python-Learning/blob/master/Udemuy_session3_hw/Answer.ipynb\" target=\"_parent\"><img src=\"https://colab.research.google.com/assets/colab-badge.svg\" alt=\"Open In Colab\"/></a>"
      ]
    },
    {
      "cell_type": "code",
      "metadata": {
        "id": "1whTb1jncHI0",
        "colab_type": "code",
        "colab": {}
      },
      "source": [
        "revenue=[14574.49,7606.46,8611.41,9175.41,8058.65,8105.44,11496.28,9766.09,10305.32,14379.96,10713.97,15433.50]\n",
        "expense=[12051.82,5695.07,12319.20,12089.72,8658.57,840.20,3285.73,5821.12,6976.93,16618.61,10054.37,3803.96]"
      ],
      "execution_count": 0,
      "outputs": []
    },
    {
      "cell_type": "code",
      "metadata": {
        "id": "7PBSPIs4fr8Q",
        "colab_type": "code",
        "outputId": "b26dcf8a-d492-408e-fa4c-bebbc955a5ed",
        "colab": {
          "base_uri": "https://localhost:8080/",
          "height": 323
        }
      },
      "source": [
        "#using numpy library\n",
        "\n",
        "import numpy as np\n",
        "\n",
        "#coding as arrays\n",
        "\n",
        "rev=np.array(revenue)\n",
        "exp=np.array(expense)\n",
        "profit=(rev-exp)/1000\n",
        "p_taxed=profit*0.7\n",
        "p_margin=(p_taxed/(rev/1000))*100\n",
        "n=len(p_taxed)\n",
        "mean=(np.zeros(12)+(p_margin.sum()/n))\n",
        "g_month=p_margin>mean\n",
        "b_month=p_margin<mean\n",
        "best_mon=p_margin==(p_margin.max())\n",
        "worst_mon=p_margin==(p_margin.min())\n",
        "\n",
        "#rounding to get in kilos\n",
        "\n",
        "r_profit=np.round(profit,2)\n",
        "r_p_taxed=np.round(p_taxed,2)\n",
        "r_p_margin=np.round(p_margin,2)\n",
        "\n",
        "#converting to arrays\n",
        "\n",
        "profit_l=r_profit.tolist()\n",
        "p_taxed_l=r_p_taxed.tolist()\n",
        "p_margin_l=r_p_margin.tolist()\n",
        "g_month_l=g_month.tolist()\n",
        "b_month_l=b_month.tolist()\n",
        "best_mon_l=best_mon.tolist()\n",
        "worst_mon_l=worst_mon.tolist()\n",
        "\n",
        "#printing the outputs\n",
        "\n",
        "print('Revenue: ')\n",
        "print(revenue)\n",
        "print('Expense: ')\n",
        "print(expense)\n",
        "print('Profit in K''s: ')\n",
        "print(profit_l)\n",
        "print('Taxed profit in K''s: ')\n",
        "print(p_taxed_l)\n",
        "print('Margin of taxed profit in %: ')\n",
        "print(p_margin_l)\n",
        "print('Is this good month? ')\n",
        "print(g_month_l)\n",
        "print('Is this bad month? ')\n",
        "print(b_month_l)\n",
        "print('Is it best month? ')\n",
        "print(best_mon_l)\n",
        "print('Is it worst month? ')\n",
        "print(worst_mon_l)"
      ],
      "execution_count": 118,
      "outputs": [
        {
          "output_type": "stream",
          "text": [
            "Revenue: \n",
            "[14574.49, 7606.46, 8611.41, 9175.41, 8058.65, 8105.44, 11496.28, 9766.09, 10305.32, 14379.96, 10713.97, 15433.5]\n",
            "Expense: \n",
            "[12051.82, 5695.07, 12319.2, 12089.72, 8658.57, 840.2, 3285.73, 5821.12, 6976.93, 16618.61, 10054.37, 3803.96]\n",
            "Profit in Ks: \n",
            "[2.52, 1.91, -3.71, -2.91, -0.6, 7.27, 8.21, 3.94, 3.33, -2.24, 0.66, 11.63]\n",
            "Taxed profit in Ks: \n",
            "[1.77, 1.34, -2.6, -2.04, -0.42, 5.09, 5.75, 2.76, 2.33, -1.57, 0.46, 8.14]\n",
            "Margin of taxed profit in %: \n",
            "[12.12, 17.59, -30.14, -22.23, -5.21, 62.74, 49.99, 28.28, 22.61, -10.9, 4.31, 52.75]\n",
            "Is this good month? \n",
            "[False, True, False, False, False, True, True, True, True, False, False, True]\n",
            "Is this bad month? \n",
            "[True, False, True, True, True, False, False, False, False, True, True, False]\n",
            "Is it best month? \n",
            "[False, False, False, False, False, True, False, False, False, False, False, False]\n",
            "Is it worst month? \n",
            "[False, False, True, False, False, False, False, False, False, False, False, False]\n"
          ],
          "name": "stdout"
        }
      ]
    }
  ]
}